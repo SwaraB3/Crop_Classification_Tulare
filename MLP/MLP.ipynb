{
 "cells": [
  {
   "cell_type": "code",
   "execution_count": 95,
   "metadata": {},
   "outputs": [],
   "source": [
    "from tensorflow import keras\n",
    "from tensorflow.keras import layers\n",
    "import tensorflow as tf\n",
    "import numpy as np\n",
    "import matplotlib.pyplot as plt\n",
    "import pandas as pd"
   ]
  },
  {
   "cell_type": "code",
   "execution_count": 96,
   "metadata": {},
   "outputs": [],
   "source": [
    "dfTulare=pd.read_csv(r\"C:\\Users\\Acer\\Documents\\Project Folder\\Tulare_county.csv\")\n",
    "dfNDVI=pd.read_csv(r\"C:\\Users\\Acer\\Documents\\Project Folder\\Tulare_NDVI.csv\")\n",
    "dfGNDVI=pd.read_csv(r\"C:\\Users\\Acer\\Documents\\Project Folder\\Tulare_GNDVI.csv\")\n",
    "dfSAVI=pd.read_csv(r\"C:\\Users\\Acer\\Documents\\Project Folder\\Tulare_SAVI.csv\")\n",
    "dfNDMI=pd.read_csv(r\"C:\\Users\\Acer\\Documents\\Project Folder\\Tulare_NDMI.csv\")\n",
    "dfNBR=pd.read_csv(r\"C:\\Users\\Acer\\Documents\\Project Folder\\Tulare_NBR.csv\")\n",
    "dfNDVI.drop(columns=[\"fid\"],inplace=True)\n",
    "dfGNDVI.drop(columns=[\"fid\"],inplace=True)\n",
    "dfSAVI.drop(columns=[\"fid\"],inplace=True)\n",
    "dfNDMI.drop(columns=[\"fid\"],inplace=True)\n",
    "dfNBR.drop(columns=[\"fid\"],inplace=True)"
   ]
  },
  {
   "cell_type": "code",
   "execution_count": 97,
   "metadata": {},
   "outputs": [],
   "source": [
    "NDVI=dfNDVI.to_numpy()\n",
    "GNDVI=dfGNDVI.to_numpy()\n",
    "NDMI=dfNDMI.to_numpy()\n",
    "SAVI=dfSAVI.to_numpy()\n",
    "NBR=dfNBR.to_numpy()"
   ]
  },
  {
   "cell_type": "code",
   "execution_count": 98,
   "metadata": {},
   "outputs": [
    {
     "data": {
      "text/plain": [
       "(26306, 35)"
      ]
     },
     "execution_count": 98,
     "metadata": {},
     "output_type": "execute_result"
    }
   ],
   "source": [
    "Data=np.hstack((NDVI,GNDVI,NDMI,SAVI,NBR))\n",
    "np.shape(Data)"
   ]
  },
  {
   "cell_type": "code",
   "execution_count": 99,
   "metadata": {},
   "outputs": [],
   "source": [
    "mean = np.nanmean(Data,axis=0)\n",
    "std=np.nanstd(Data,axis=0)\n",
    "Data -= mean\n",
    "Data /= std"
   ]
  },
  {
   "cell_type": "code",
   "execution_count": 100,
   "metadata": {},
   "outputs": [],
   "source": [
    "dfTarget=dfTulare[\"croptyp2\"]\n",
    "Targetdict={'D5':0,'D12':1, 'D13':2, 'D14':3, 'X':4, 'V':5, 'C':6,}\n",
    "def to_one_hot(labels, dimension=7):\n",
    "   results = np.zeros((len(labels), dimension))\n",
    "   for i, label in enumerate(labels):\n",
    "     results[i, Targetdict[label]] = 1.\n",
    "   return results\n",
    "Target=to_one_hot(dfTarget)"
   ]
  },
  {
   "cell_type": "code",
   "execution_count": 101,
   "metadata": {},
   "outputs": [],
   "source": [
    "rng=np.random.default_rng(seed=20)\n",
    "index=np.arange(len(Target))\n",
    "rng.shuffle(index)\n",
    "Target=Target[index]\n",
    "Data=Data[index]\n",
    "Target_train=Target[:20000]\n",
    "Target_validate=Target[20000:]"
   ]
  },
  {
   "cell_type": "code",
   "execution_count": 102,
   "metadata": {},
   "outputs": [],
   "source": [
    "Data_train=Data[:20000]\n",
    "Data_validate=Data[20000:]"
   ]
  },
  {
   "cell_type": "code",
   "execution_count": 103,
   "metadata": {},
   "outputs": [],
   "source": [
    "model = keras.Sequential([\n",
    " layers.Dense(128, activation=\"relu\"),\n",
    " layers.Dense(256, activation=\"relu\"),\n",
    " layers.Dense(7, activation=\"softmax\")\n",
    "])"
   ]
  },
  {
   "cell_type": "code",
   "execution_count": 104,
   "metadata": {},
   "outputs": [],
   "source": [
    "model.compile(optimizer=\"adam\",\n",
    " loss=\"categorical_crossentropy\",\n",
    " metrics=[\"accuracy\"])"
   ]
  },
  {
   "cell_type": "code",
   "execution_count": 105,
   "metadata": {},
   "outputs": [
    {
     "name": "stdout",
     "output_type": "stream",
     "text": [
      "Epoch 1/20\n"
     ]
    },
    {
     "name": "stdout",
     "output_type": "stream",
     "text": [
      "\u001b[1m157/157\u001b[0m \u001b[32m━━━━━━━━━━━━━━━━━━━━\u001b[0m\u001b[37m\u001b[0m \u001b[1m2s\u001b[0m 5ms/step - accuracy: 0.7031 - loss: 0.9219 - val_accuracy: 0.8565 - val_loss: 0.4476\n",
      "Epoch 2/20\n",
      "\u001b[1m157/157\u001b[0m \u001b[32m━━━━━━━━━━━━━━━━━━━━\u001b[0m\u001b[37m\u001b[0m \u001b[1m1s\u001b[0m 3ms/step - accuracy: 0.8651 - loss: 0.4215 - val_accuracy: 0.8798 - val_loss: 0.3651\n",
      "Epoch 3/20\n",
      "\u001b[1m157/157\u001b[0m \u001b[32m━━━━━━━━━━━━━━━━━━━━\u001b[0m\u001b[37m\u001b[0m \u001b[1m1s\u001b[0m 3ms/step - accuracy: 0.8837 - loss: 0.3491 - val_accuracy: 0.8860 - val_loss: 0.3302\n",
      "Epoch 4/20\n",
      "\u001b[1m157/157\u001b[0m \u001b[32m━━━━━━━━━━━━━━━━━━━━\u001b[0m\u001b[37m\u001b[0m \u001b[1m1s\u001b[0m 3ms/step - accuracy: 0.8963 - loss: 0.3072 - val_accuracy: 0.8934 - val_loss: 0.3145\n",
      "Epoch 5/20\n",
      "\u001b[1m157/157\u001b[0m \u001b[32m━━━━━━━━━━━━━━━━━━━━\u001b[0m\u001b[37m\u001b[0m \u001b[1m1s\u001b[0m 3ms/step - accuracy: 0.9017 - loss: 0.2921 - val_accuracy: 0.9037 - val_loss: 0.2833\n",
      "Epoch 6/20\n",
      "\u001b[1m157/157\u001b[0m \u001b[32m━━━━━━━━━━━━━━━━━━━━\u001b[0m\u001b[37m\u001b[0m \u001b[1m1s\u001b[0m 3ms/step - accuracy: 0.9051 - loss: 0.2770 - val_accuracy: 0.9083 - val_loss: 0.2712\n",
      "Epoch 7/20\n",
      "\u001b[1m157/157\u001b[0m \u001b[32m━━━━━━━━━━━━━━━━━━━━\u001b[0m\u001b[37m\u001b[0m \u001b[1m1s\u001b[0m 4ms/step - accuracy: 0.9124 - loss: 0.2592 - val_accuracy: 0.8996 - val_loss: 0.2796\n",
      "Epoch 8/20\n",
      "\u001b[1m157/157\u001b[0m \u001b[32m━━━━━━━━━━━━━━━━━━━━\u001b[0m\u001b[37m\u001b[0m \u001b[1m1s\u001b[0m 3ms/step - accuracy: 0.9144 - loss: 0.2521 - val_accuracy: 0.9096 - val_loss: 0.2624\n",
      "Epoch 9/20\n",
      "\u001b[1m157/157\u001b[0m \u001b[32m━━━━━━━━━━━━━━━━━━━━\u001b[0m\u001b[37m\u001b[0m \u001b[1m1s\u001b[0m 4ms/step - accuracy: 0.9188 - loss: 0.2429 - val_accuracy: 0.9144 - val_loss: 0.2476\n",
      "Epoch 10/20\n",
      "\u001b[1m157/157\u001b[0m \u001b[32m━━━━━━━━━━━━━━━━━━━━\u001b[0m\u001b[37m\u001b[0m \u001b[1m1s\u001b[0m 4ms/step - accuracy: 0.9214 - loss: 0.2301 - val_accuracy: 0.9158 - val_loss: 0.2423\n",
      "Epoch 11/20\n",
      "\u001b[1m157/157\u001b[0m \u001b[32m━━━━━━━━━━━━━━━━━━━━\u001b[0m\u001b[37m\u001b[0m \u001b[1m1s\u001b[0m 3ms/step - accuracy: 0.9210 - loss: 0.2302 - val_accuracy: 0.9091 - val_loss: 0.2681\n",
      "Epoch 12/20\n",
      "\u001b[1m157/157\u001b[0m \u001b[32m━━━━━━━━━━━━━━━━━━━━\u001b[0m\u001b[37m\u001b[0m \u001b[1m1s\u001b[0m 4ms/step - accuracy: 0.9237 - loss: 0.2208 - val_accuracy: 0.9171 - val_loss: 0.2354\n",
      "Epoch 13/20\n",
      "\u001b[1m157/157\u001b[0m \u001b[32m━━━━━━━━━━━━━━━━━━━━\u001b[0m\u001b[37m\u001b[0m \u001b[1m1s\u001b[0m 4ms/step - accuracy: 0.9291 - loss: 0.2092 - val_accuracy: 0.9090 - val_loss: 0.2611\n",
      "Epoch 14/20\n",
      "\u001b[1m157/157\u001b[0m \u001b[32m━━━━━━━━━━━━━━━━━━━━\u001b[0m\u001b[37m\u001b[0m \u001b[1m1s\u001b[0m 4ms/step - accuracy: 0.9240 - loss: 0.2163 - val_accuracy: 0.9145 - val_loss: 0.2588\n",
      "Epoch 15/20\n",
      "\u001b[1m157/157\u001b[0m \u001b[32m━━━━━━━━━━━━━━━━━━━━\u001b[0m\u001b[37m\u001b[0m \u001b[1m1s\u001b[0m 4ms/step - accuracy: 0.9289 - loss: 0.2119 - val_accuracy: 0.9183 - val_loss: 0.2358\n",
      "Epoch 16/20\n",
      "\u001b[1m157/157\u001b[0m \u001b[32m━━━━━━━━━━━━━━━━━━━━\u001b[0m\u001b[37m\u001b[0m \u001b[1m1s\u001b[0m 3ms/step - accuracy: 0.9330 - loss: 0.1976 - val_accuracy: 0.9217 - val_loss: 0.2319\n",
      "Epoch 17/20\n",
      "\u001b[1m157/157\u001b[0m \u001b[32m━━━━━━━━━━━━━━━━━━━━\u001b[0m\u001b[37m\u001b[0m \u001b[1m1s\u001b[0m 4ms/step - accuracy: 0.9333 - loss: 0.1939 - val_accuracy: 0.9217 - val_loss: 0.2401\n",
      "Epoch 18/20\n",
      "\u001b[1m157/157\u001b[0m \u001b[32m━━━━━━━━━━━━━━━━━━━━\u001b[0m\u001b[37m\u001b[0m \u001b[1m1s\u001b[0m 3ms/step - accuracy: 0.9335 - loss: 0.1963 - val_accuracy: 0.9167 - val_loss: 0.2426\n",
      "Epoch 19/20\n",
      "\u001b[1m157/157\u001b[0m \u001b[32m━━━━━━━━━━━━━━━━━━━━\u001b[0m\u001b[37m\u001b[0m \u001b[1m1s\u001b[0m 3ms/step - accuracy: 0.9352 - loss: 0.1879 - val_accuracy: 0.9247 - val_loss: 0.2239\n",
      "Epoch 20/20\n",
      "\u001b[1m157/157\u001b[0m \u001b[32m━━━━━━━━━━━━━━━━━━━━\u001b[0m\u001b[37m\u001b[0m \u001b[1m1s\u001b[0m 3ms/step - accuracy: 0.9371 - loss: 0.1804 - val_accuracy: 0.9215 - val_loss: 0.2293\n"
     ]
    }
   ],
   "source": [
    "history = model.fit(Data_train,Target_train,epochs=20,batch_size=128,validation_data=(Data_validate,Target_validate))\n"
   ]
  },
  {
   "cell_type": "code",
   "execution_count": 106,
   "metadata": {},
   "outputs": [
    {
     "data": {
      "image/png": "[encoded data removed]",
      "text/plain": [
       "<Figure size 640x480 with 1 Axes>"
      ]
     },
     "metadata": {},
     "output_type": "display_data"
    }
   ],
   "source": [
    "loss = history.history[\"accuracy\"]\n",
    "val_loss = history.history[\"val_accuracy\"]\n",
    "epochs = range(1, len(loss) + 1)\n",
    "plt.plot(epochs, loss, \"bo\", label=\"training accuracy\")\n",
    "plt.plot(epochs, val_loss, \"b\", label=\"validation accuracy\")\n",
    "plt.title(\"Training and validation accuracy\")\n",
    "plt.xlabel(\"Epochs\")\n",
    "plt.ylabel(\"accuracy\")\n",
    "plt.legend()\n",
    "plt.show()"
   ]
  }
 ],
 "metadata": {
  "kernelspec": {
   "display_name": ".venv",
   "language": "python",
   "name": "python3"
  },
  "language_info": {
   "codemirror_mode": {
    "name": "ipython",
    "version": 3
   },
   "file_extension": ".py",
   "mimetype": "text/x-python",
   "name": "python",
   "nbconvert_exporter": "python",
   "pygments_lexer": "ipython3",
   "version": "3.12.1"
  }
 },
 "nbformat": 4,
 "nbformat_minor": 2
}
